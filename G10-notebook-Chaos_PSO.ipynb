{
 "cells": [
  {
   "cell_type": "markdown",
   "metadata": {},
   "source": [
    "# Projet : Chaos PSO \n",
    "\n",
    "On commence par importer les libairies nécessaires :"
   ]
  },
  {
   "cell_type": "code",
   "execution_count": null,
   "metadata": {},
   "outputs": [
    {
     "ename": "",
     "evalue": "",
     "output_type": "error",
     "traceback": [
      "\u001b[1;31mÉchec du démarrage du noyau. \n",
      "C:\\Users\\Loaï univ\\AppData\\Local\\Packages\\PythonSoftwareFoundation.Python.3.9_qbz5n2kfra8p0\\LocalCache\\local-packages\\Python39\\site-packages\\traitlets\\traitlets.py:2392: FutureWarning: Supporting extra quotes around strings is deprecated in traitlets 5.0. You can use 'hmac-sha256' instead of '\"hmac-sha256\"' if you require traitlets >=5.\r\n",
      "  warn(\r\n",
      "C:\\Users\\Loaï univ\\AppData\\Local\\Packages\\PythonSoftwareFoundation.Python.3.9_qbz5n2kfra8p0\\LocalCache\\local-packages\\Python39\\site-packages\\traitlets\\traitlets.py:2346: FutureWarning: Supporting extra quotes around Bytes is deprecated in traitlets 5.0. Use '2404823e-3860-4ad0-83d9-79c3dc934014' instead of 'b\"2404823e-3860-4ad0-83d9-79c3dc934014\"'.\r\n",
      "  warn(\r\n",
      "C:\\Users\\Loaï univ\\AppData\\Local\\Packages\\PythonSoftwareFoundation.Python.3.9_qbz5n2kfra8p0\\LocalCache\\local-packages\\Python39\\site-packages\\traitlets\\traitlets.py:2392: FutureWarning: Supporting extra quotes around strings is deprecated in traitlets 5.0. You can use 'c:\\\\Users\\\\Loaï univ\\\\AppData\\\\Roaming\\\\jupyter\\\\runtime\\\\kernel-v2-16192C4PGl0rXJ8kM.json' instead of '\"c:\\\\Users\\\\Loaï univ\\\\AppData\\\\Roaming\\\\jupyter\\\\runtime\\\\kernel-v2-16192C4PGl0rXJ8kM.json\"' if you require traitlets >=5.\r\n",
      "  warn(\r\n",
      "Bad file descriptor (C:\\projects\\libzmq\\src\\epoll.cpp:100). \n",
      "Pour plus d’informations, consultez Jupyter <a href='command:jupyter.viewOutput'>log</a>."
     ]
    }
   ],
   "source": [
    "import numpy as np\n",
    "import matplotlib.pyplot as plt\n",
    "import math\n",
    "\n",
    "from copy import deepcopy \n",
    "from scipy.stats import qmc"
   ]
  },
  {
   "cell_type": "markdown",
   "metadata": {},
   "source": [
    "## 1/ Chaos maps\n",
    "\n",
    "On implémente ici quelques chaos maps (celles qui nous intéressera est la Arnolds Cat Map)."
   ]
  },
  {
   "cell_type": "code",
   "execution_count": null,
   "metadata": {},
   "outputs": [
    {
     "ename": "",
     "evalue": "",
     "output_type": "error",
     "traceback": [
      "\u001b[1;31mÉchec du démarrage du noyau. \n",
      "C:\\Users\\Loaï univ\\AppData\\Local\\Packages\\PythonSoftwareFoundation.Python.3.9_qbz5n2kfra8p0\\LocalCache\\local-packages\\Python39\\site-packages\\traitlets\\traitlets.py:2392: FutureWarning: Supporting extra quotes around strings is deprecated in traitlets 5.0. You can use 'hmac-sha256' instead of '\"hmac-sha256\"' if you require traitlets >=5.\r\n",
      "  warn(\r\n",
      "C:\\Users\\Loaï univ\\AppData\\Local\\Packages\\PythonSoftwareFoundation.Python.3.9_qbz5n2kfra8p0\\LocalCache\\local-packages\\Python39\\site-packages\\traitlets\\traitlets.py:2346: FutureWarning: Supporting extra quotes around Bytes is deprecated in traitlets 5.0. Use '44ddb25a-922f-41cc-a623-8f57070c61cb' instead of 'b\"44ddb25a-922f-41cc-a623-8f57070c61cb\"'.\r\n",
      "  warn(\r\n",
      "C:\\Users\\Loaï univ\\AppData\\Local\\Packages\\PythonSoftwareFoundation.Python.3.9_qbz5n2kfra8p0\\LocalCache\\local-packages\\Python39\\site-packages\\traitlets\\traitlets.py:2392: FutureWarning: Supporting extra quotes around strings is deprecated in traitlets 5.0. You can use 'c:\\\\Users\\\\Loaï univ\\\\AppData\\\\Roaming\\\\jupyter\\\\runtime\\\\kernel-v2-16192p2CRA7RdYrl7.json' instead of '\"c:\\\\Users\\\\Loaï univ\\\\AppData\\\\Roaming\\\\jupyter\\\\runtime\\\\kernel-v2-16192p2CRA7RdYrl7.json\"' if you require traitlets >=5.\r\n",
      "  warn(\r\n",
      "Bad file descriptor (C:\\projects\\libzmq\\src\\epoll.cpp:100). \n",
      "Pour plus d’informations, consultez Jupyter <a href='command:jupyter.viewOutput'>log</a>."
     ]
    }
   ],
   "source": [
    "# Nombre d'itération maximum\n",
    "k_max = 500 \n",
    "\n",
    "# Tableau des X_k\n",
    "X = np.zeros(k_max)\n",
    "\n",
    "#Tableau des Y_k\n",
    "Y = np.zeros(k_max)"
   ]
  },
  {
   "cell_type": "markdown",
   "metadata": {},
   "source": [
    "### - Logistic map"
   ]
  },
  {
   "cell_type": "code",
   "execution_count": null,
   "metadata": {},
   "outputs": [
    {
     "ename": "",
     "evalue": "",
     "output_type": "error",
     "traceback": [
      "\u001b[1;31mÉchec du démarrage du noyau. \n",
      "C:\\Users\\Loaï univ\\AppData\\Local\\Packages\\PythonSoftwareFoundation.Python.3.9_qbz5n2kfra8p0\\LocalCache\\local-packages\\Python39\\site-packages\\traitlets\\traitlets.py:2392: FutureWarning: Supporting extra quotes around strings is deprecated in traitlets 5.0. You can use 'hmac-sha256' instead of '\"hmac-sha256\"' if you require traitlets >=5.\r\n",
      "  warn(\r\n",
      "C:\\Users\\Loaï univ\\AppData\\Local\\Packages\\PythonSoftwareFoundation.Python.3.9_qbz5n2kfra8p0\\LocalCache\\local-packages\\Python39\\site-packages\\traitlets\\traitlets.py:2346: FutureWarning: Supporting extra quotes around Bytes is deprecated in traitlets 5.0. Use '44ddb25a-922f-41cc-a623-8f57070c61cb' instead of 'b\"44ddb25a-922f-41cc-a623-8f57070c61cb\"'.\r\n",
      "  warn(\r\n",
      "C:\\Users\\Loaï univ\\AppData\\Local\\Packages\\PythonSoftwareFoundation.Python.3.9_qbz5n2kfra8p0\\LocalCache\\local-packages\\Python39\\site-packages\\traitlets\\traitlets.py:2392: FutureWarning: Supporting extra quotes around strings is deprecated in traitlets 5.0. You can use 'c:\\\\Users\\\\Loaï univ\\\\AppData\\\\Roaming\\\\jupyter\\\\runtime\\\\kernel-v2-16192p2CRA7RdYrl7.json' instead of '\"c:\\\\Users\\\\Loaï univ\\\\AppData\\\\Roaming\\\\jupyter\\\\runtime\\\\kernel-v2-16192p2CRA7RdYrl7.json\"' if you require traitlets >=5.\r\n",
      "  warn(\r\n",
      "Bad file descriptor (C:\\projects\\libzmq\\src\\epoll.cpp:100). \n",
      "Pour plus d’informations, consultez Jupyter <a href='command:jupyter.viewOutput'>log</a>."
     ]
    }
   ],
   "source": [
    "# Copie de X\n",
    "X_lg = X\n",
    "\n",
    "# Initialisation de mu (entre 0 et 4):\n",
    "mu = 3\n",
    "\n",
    "# Initialisation de X_0 :\n",
    "X_lg[0] = 0.10\n",
    "\n",
    "# Itération :\n",
    "for k in range(1, k_max):\n",
    "    X_lg[k] = mu * X_lg[k-1] * (1-X_lg[k-1]) \n",
    "    \n",
    "# On affiche le graphique :\n",
    "plt.plot(X_lg, '.')\n"
   ]
  },
  {
   "cell_type": "markdown",
   "metadata": {},
   "source": [
    "### - Dissipative map"
   ]
  },
  {
   "cell_type": "code",
   "execution_count": null,
   "metadata": {},
   "outputs": [
    {
     "ename": "",
     "evalue": "",
     "output_type": "error",
     "traceback": [
      "\u001b[1;31mÉchec du démarrage du noyau. \n",
      "C:\\Users\\Loaï univ\\AppData\\Local\\Packages\\PythonSoftwareFoundation.Python.3.9_qbz5n2kfra8p0\\LocalCache\\local-packages\\Python39\\site-packages\\traitlets\\traitlets.py:2392: FutureWarning: Supporting extra quotes around strings is deprecated in traitlets 5.0. You can use 'hmac-sha256' instead of '\"hmac-sha256\"' if you require traitlets >=5.\r\n",
      "  warn(\r\n",
      "C:\\Users\\Loaï univ\\AppData\\Local\\Packages\\PythonSoftwareFoundation.Python.3.9_qbz5n2kfra8p0\\LocalCache\\local-packages\\Python39\\site-packages\\traitlets\\traitlets.py:2346: FutureWarning: Supporting extra quotes around Bytes is deprecated in traitlets 5.0. Use '44ddb25a-922f-41cc-a623-8f57070c61cb' instead of 'b\"44ddb25a-922f-41cc-a623-8f57070c61cb\"'.\r\n",
      "  warn(\r\n",
      "C:\\Users\\Loaï univ\\AppData\\Local\\Packages\\PythonSoftwareFoundation.Python.3.9_qbz5n2kfra8p0\\LocalCache\\local-packages\\Python39\\site-packages\\traitlets\\traitlets.py:2392: FutureWarning: Supporting extra quotes around strings is deprecated in traitlets 5.0. You can use 'c:\\\\Users\\\\Loaï univ\\\\AppData\\\\Roaming\\\\jupyter\\\\runtime\\\\kernel-v2-16192p2CRA7RdYrl7.json' instead of '\"c:\\\\Users\\\\Loaï univ\\\\AppData\\\\Roaming\\\\jupyter\\\\runtime\\\\kernel-v2-16192p2CRA7RdYrl7.json\"' if you require traitlets >=5.\r\n",
      "  warn(\r\n",
      "Bad file descriptor (C:\\projects\\libzmq\\src\\epoll.cpp:100). \n",
      "Pour plus d’informations, consultez Jupyter <a href='command:jupyter.viewOutput'>log</a>."
     ]
    }
   ],
   "source": [
    "# Copie de X\n",
    "X_dm = X\n",
    "\n",
    "# Copie de Y\n",
    "Y_dm = Y\n",
    "\n",
    "# Initialisation de a et b :\n",
    "a = 0.6\n",
    "b = 8.8\n",
    "\n",
    "# Initialisation de X_0 et Y_0 :\n",
    "X_dm[0] = math.pi\n",
    "Y_dm[0] = math.pi\n",
    "\n",
    "# Itération :\n",
    "for k in range(1, k_max):\n",
    "    Y_dm[k] = (a * Y_dm[k-1] + b * math.sin(X_dm[k-1])) % 2 * math.pi\n",
    "    X_dm[k] = (X_dm[k-1] + Y_dm[k]) % 2 * math.pi\n",
    "    \n",
    "\n",
    "for k in range(0, k_max):\n",
    "    if Y_dm[k] > 1 :\n",
    "        Y_dm[k] = (Y_dm[k] - np.min(Y_dm)) / (np.max(Y_dm) - np.min(Y_dm))\n",
    "    if X_dm[k] > 1 :\n",
    "        X_dm[k] = (X_dm[k] - np.min(X_dm)) / (np.max(X_dm) - np.min(X_dm))\n",
    "    \n",
    "# On affiche le graphique :\n",
    "plt.plot(X_dm, '.')\n"
   ]
  },
  {
   "cell_type": "markdown",
   "metadata": {},
   "source": [
    "### - Arnolds Cat map"
   ]
  },
  {
   "cell_type": "code",
   "execution_count": null,
   "metadata": {},
   "outputs": [
    {
     "ename": "",
     "evalue": "",
     "output_type": "error",
     "traceback": [
      "\u001b[1;31mÉchec du démarrage du noyau. \n",
      "C:\\Users\\Loaï univ\\AppData\\Local\\Packages\\PythonSoftwareFoundation.Python.3.9_qbz5n2kfra8p0\\LocalCache\\local-packages\\Python39\\site-packages\\traitlets\\traitlets.py:2392: FutureWarning: Supporting extra quotes around strings is deprecated in traitlets 5.0. You can use 'hmac-sha256' instead of '\"hmac-sha256\"' if you require traitlets >=5.\r\n",
      "  warn(\r\n",
      "C:\\Users\\Loaï univ\\AppData\\Local\\Packages\\PythonSoftwareFoundation.Python.3.9_qbz5n2kfra8p0\\LocalCache\\local-packages\\Python39\\site-packages\\traitlets\\traitlets.py:2346: FutureWarning: Supporting extra quotes around Bytes is deprecated in traitlets 5.0. Use '44ddb25a-922f-41cc-a623-8f57070c61cb' instead of 'b\"44ddb25a-922f-41cc-a623-8f57070c61cb\"'.\r\n",
      "  warn(\r\n",
      "C:\\Users\\Loaï univ\\AppData\\Local\\Packages\\PythonSoftwareFoundation.Python.3.9_qbz5n2kfra8p0\\LocalCache\\local-packages\\Python39\\site-packages\\traitlets\\traitlets.py:2392: FutureWarning: Supporting extra quotes around strings is deprecated in traitlets 5.0. You can use 'c:\\\\Users\\\\Loaï univ\\\\AppData\\\\Roaming\\\\jupyter\\\\runtime\\\\kernel-v2-16192p2CRA7RdYrl7.json' instead of '\"c:\\\\Users\\\\Loaï univ\\\\AppData\\\\Roaming\\\\jupyter\\\\runtime\\\\kernel-v2-16192p2CRA7RdYrl7.json\"' if you require traitlets >=5.\r\n",
      "  warn(\r\n",
      "Bad file descriptor (C:\\projects\\libzmq\\src\\epoll.cpp:100). \n",
      "Pour plus d’informations, consultez Jupyter <a href='command:jupyter.viewOutput'>log</a>."
     ]
    }
   ],
   "source": [
    "# Copie de X\n",
    "X_acm = X\n",
    "\n",
    "# Copie de Y\n",
    "Y_acm = Y\n",
    "\n",
    "# Initialisation de a :\n",
    "a = 0.1\n",
    "\n",
    "# Initialisation de X_0 et Y_0 :\n",
    "X_acm[0] = 0.5\n",
    "Y_acm[0] = 0.5\n",
    "\n",
    "# Itération :\n",
    "for k in range(1, k_max):\n",
    "    X_acm[k] = (X_acm[k-1] + Y_acm[k-1]) % 1\n",
    "    Y_acm[k] = (X_acm[k-1] + a * Y_acm[k-1]) % 1\n",
    "    \n",
    "for k in range(0, k_max):\n",
    "    if Y_acm[k] > 1 :\n",
    "        Y_acm[k] = (Y_acm[k] - np.min(Y_acm)) / (np.max(Y_acm) - np.min(Y_acm))\n",
    "    if X_acm[k] > 1 :\n",
    "        X_acm[k] = (X_acm[k] - np.min(X_acm)) / (np.max(X_acm) - np.min(X_acm))\n",
    "      \n",
    "    \n",
    "# On affiche le graphique :\n",
    "plt.plot(X_acm, '.')\n",
    "  \n",
    "\n",
    "    \n",
    "# La Arnold's cat map sous forme de fonction\n",
    "def acm(X, Y, k_max):\n",
    "    # Copie de X\n",
    "    X_acm = X\n",
    "\n",
    "    # Copie de Y\n",
    "    Y_acm = Y\n",
    "\n",
    "    # Initialisation de a :\n",
    "    a = 0.1\n",
    "\n",
    "    # Initialisation de X_0 et Y_0 :\n",
    "    X_acm[0] = 0.5\n",
    "    Y_acm[0] = 0.5\n",
    "\n",
    "    # Itération :\n",
    "    for k in range(1, k_max):\n",
    "        X_acm[k] = (X_acm[k-1] + Y_acm[k-1]) % 1\n",
    "        Y_acm[k] = (X_acm[k-1] + a * Y_acm[k-1]) % 1\n",
    "\n",
    "    for k in range(0, k_max):\n",
    "        if Y_acm[k] > 1 :\n",
    "            Y_acm[k] = (Y_acm[k] - np.min(Y_acm)) / (np.max(Y_acm) - np.min(Y_acm))\n",
    "        if X_acm[k] > 1 :\n",
    "            X_acm[k] = (X_acm[k] - np.min(X_acm)) / (np.max(X_acm) - np.min(X_acm))\n",
    "            \n",
    "    return X_acm\n",
    "   "
   ]
  },
  {
   "cell_type": "markdown",
   "metadata": {},
   "source": [
    "## 2/ fonction PSO\n",
    "\n",
    "On implémente ici notre fonction pour la PSO "
   ]
  },
  {
   "cell_type": "code",
   "execution_count": null,
   "metadata": {},
   "outputs": [
    {
     "ename": "",
     "evalue": "",
     "output_type": "error",
     "traceback": [
      "\u001b[1;31mÉchec du démarrage du noyau. \n",
      "C:\\Users\\Loaï univ\\AppData\\Local\\Packages\\PythonSoftwareFoundation.Python.3.9_qbz5n2kfra8p0\\LocalCache\\local-packages\\Python39\\site-packages\\traitlets\\traitlets.py:2392: FutureWarning: Supporting extra quotes around strings is deprecated in traitlets 5.0. You can use 'hmac-sha256' instead of '\"hmac-sha256\"' if you require traitlets >=5.\r\n",
      "  warn(\r\n",
      "C:\\Users\\Loaï univ\\AppData\\Local\\Packages\\PythonSoftwareFoundation.Python.3.9_qbz5n2kfra8p0\\LocalCache\\local-packages\\Python39\\site-packages\\traitlets\\traitlets.py:2346: FutureWarning: Supporting extra quotes around Bytes is deprecated in traitlets 5.0. Use '44ddb25a-922f-41cc-a623-8f57070c61cb' instead of 'b\"44ddb25a-922f-41cc-a623-8f57070c61cb\"'.\r\n",
      "  warn(\r\n",
      "C:\\Users\\Loaï univ\\AppData\\Local\\Packages\\PythonSoftwareFoundation.Python.3.9_qbz5n2kfra8p0\\LocalCache\\local-packages\\Python39\\site-packages\\traitlets\\traitlets.py:2392: FutureWarning: Supporting extra quotes around strings is deprecated in traitlets 5.0. You can use 'c:\\\\Users\\\\Loaï univ\\\\AppData\\\\Roaming\\\\jupyter\\\\runtime\\\\kernel-v2-16192p2CRA7RdYrl7.json' instead of '\"c:\\\\Users\\\\Loaï univ\\\\AppData\\\\Roaming\\\\jupyter\\\\runtime\\\\kernel-v2-16192p2CRA7RdYrl7.json\"' if you require traitlets >=5.\r\n",
      "  warn(\r\n",
      "Bad file descriptor (C:\\projects\\libzmq\\src\\epoll.cpp:100). \n",
      "Pour plus d’informations, consultez Jupyter <a href='command:jupyter.viewOutput'>log</a>."
     ]
    }
   ],
   "source": [
    "def PSO(f, P_0, V_0, K_max, w, r, X_min, X_max):\n",
    "    \n",
    "    P_k = deepcopy(P_0)\n",
    "    V_k = deepcopy(V_0)\n",
    "    \n",
    "    # Taille de la population\n",
    "    dim_pop = np.size(P_0, 0)\n",
    "    \n",
    "    # Taille des vecteurs \n",
    "    dim_part = np.size(P_0, 1)\n",
    "    \n",
    "    # Array contenant le personnal best pour chaque x_i\n",
    "    pb = deepcopy(P_k) \n",
    "    \n",
    "    # Global best\n",
    "    gb = P_k[0] \n",
    "    for i in range(dim_pop):\n",
    "         if (f(gb) > f(pb[i])):\n",
    "                gb = pb[i]\n",
    "                \n",
    "    # On itère \n",
    "    for k in range(1, K_max):\n",
    "    \n",
    "        # on itère pour trouver Vik+1 et Xik+1 en fonction de Vik et de Xik \n",
    "        for i in range(dim_pop):\n",
    "            V_k[i,:] = w[0] * V_k[i,:] + r[k] * w[1] *(pb[i,:] - P_k[i,:]) + r[k] * w[2] * (gb - P_k[i,:])\n",
    "            P_k[i,:] += V_k[i,:]\n",
    "            \n",
    "            # on met à jour les Xik pour qu'ils restent dans l'intervalle [Xmin,Xmax]\n",
    "            for j in range(dim_part):\n",
    "                P_k[i][j] = min(X_max, max(P_k[i][j], X_min))\n",
    "            \n",
    "            # On détermine  les pb\n",
    "            if(f(pb[i]) > f(P_k[i])):\n",
    "                pb[i] = P_k[i]\n",
    "            \n",
    "            # On détermine  les gb\n",
    "            if (f(gb) > f(pb[i])):\n",
    "                gb = pb[i]\n",
    "    \n",
    "    # Au bout de K_max itérations on renvoie le global best (ce vers quoi le nuage de points converge)\n",
    "    return gb\n",
    "        \n",
    "    \n",
    "    "
   ]
  },
  {
   "cell_type": "markdown",
   "metadata": {},
   "source": [
    "## 3/ benchmark de référence\n",
    "\n",
    "Les deux fonctions qui nous permettront de vérifier notre fonction de PSO sont les suivantes :\n",
    "\n",
    "#### - Schaffer 4"
   ]
  },
  {
   "cell_type": "code",
   "execution_count": null,
   "metadata": {},
   "outputs": [
    {
     "ename": "",
     "evalue": "",
     "output_type": "error",
     "traceback": [
      "\u001b[1;31mÉchec du démarrage du noyau. \n",
      "C:\\Users\\Loaï univ\\AppData\\Local\\Packages\\PythonSoftwareFoundation.Python.3.9_qbz5n2kfra8p0\\LocalCache\\local-packages\\Python39\\site-packages\\traitlets\\traitlets.py:2392: FutureWarning: Supporting extra quotes around strings is deprecated in traitlets 5.0. You can use 'hmac-sha256' instead of '\"hmac-sha256\"' if you require traitlets >=5.\r\n",
      "  warn(\r\n",
      "C:\\Users\\Loaï univ\\AppData\\Local\\Packages\\PythonSoftwareFoundation.Python.3.9_qbz5n2kfra8p0\\LocalCache\\local-packages\\Python39\\site-packages\\traitlets\\traitlets.py:2346: FutureWarning: Supporting extra quotes around Bytes is deprecated in traitlets 5.0. Use '44ddb25a-922f-41cc-a623-8f57070c61cb' instead of 'b\"44ddb25a-922f-41cc-a623-8f57070c61cb\"'.\r\n",
      "  warn(\r\n",
      "C:\\Users\\Loaï univ\\AppData\\Local\\Packages\\PythonSoftwareFoundation.Python.3.9_qbz5n2kfra8p0\\LocalCache\\local-packages\\Python39\\site-packages\\traitlets\\traitlets.py:2392: FutureWarning: Supporting extra quotes around strings is deprecated in traitlets 5.0. You can use 'c:\\\\Users\\\\Loaï univ\\\\AppData\\\\Roaming\\\\jupyter\\\\runtime\\\\kernel-v2-16192p2CRA7RdYrl7.json' instead of '\"c:\\\\Users\\\\Loaï univ\\\\AppData\\\\Roaming\\\\jupyter\\\\runtime\\\\kernel-v2-16192p2CRA7RdYrl7.json\"' if you require traitlets >=5.\r\n",
      "  warn(\r\n",
      "Bad file descriptor (C:\\projects\\libzmq\\src\\epoll.cpp:100). \n",
      "Pour plus d’informations, consultez Jupyter <a href='command:jupyter.viewOutput'>log</a>."
     ]
    }
   ],
   "source": [
    "def schaffer4 (X) :\n",
    "    return 0.5 + (np.cos( np.sin( abs(X[0]**2 + X[1]**2) ) )**2 - 0.5) / ( 1 + 0.001 * (X[0]**2 + X[1]**2))**2"
   ]
  },
  {
   "cell_type": "markdown",
   "metadata": {},
   "source": [
    "#### - Rastrigin"
   ]
  },
  {
   "cell_type": "code",
   "execution_count": null,
   "metadata": {},
   "outputs": [
    {
     "ename": "",
     "evalue": "",
     "output_type": "error",
     "traceback": [
      "\u001b[1;31mÉchec du démarrage du noyau. \n",
      "C:\\Users\\Loaï univ\\AppData\\Local\\Packages\\PythonSoftwareFoundation.Python.3.9_qbz5n2kfra8p0\\LocalCache\\local-packages\\Python39\\site-packages\\traitlets\\traitlets.py:2392: FutureWarning: Supporting extra quotes around strings is deprecated in traitlets 5.0. You can use 'hmac-sha256' instead of '\"hmac-sha256\"' if you require traitlets >=5.\r\n",
      "  warn(\r\n",
      "C:\\Users\\Loaï univ\\AppData\\Local\\Packages\\PythonSoftwareFoundation.Python.3.9_qbz5n2kfra8p0\\LocalCache\\local-packages\\Python39\\site-packages\\traitlets\\traitlets.py:2346: FutureWarning: Supporting extra quotes around Bytes is deprecated in traitlets 5.0. Use '44ddb25a-922f-41cc-a623-8f57070c61cb' instead of 'b\"44ddb25a-922f-41cc-a623-8f57070c61cb\"'.\r\n",
      "  warn(\r\n",
      "C:\\Users\\Loaï univ\\AppData\\Local\\Packages\\PythonSoftwareFoundation.Python.3.9_qbz5n2kfra8p0\\LocalCache\\local-packages\\Python39\\site-packages\\traitlets\\traitlets.py:2392: FutureWarning: Supporting extra quotes around strings is deprecated in traitlets 5.0. You can use 'c:\\\\Users\\\\Loaï univ\\\\AppData\\\\Roaming\\\\jupyter\\\\runtime\\\\kernel-v2-16192p2CRA7RdYrl7.json' instead of '\"c:\\\\Users\\\\Loaï univ\\\\AppData\\\\Roaming\\\\jupyter\\\\runtime\\\\kernel-v2-16192p2CRA7RdYrl7.json\"' if you require traitlets >=5.\r\n",
      "  warn(\r\n",
      "Bad file descriptor (C:\\projects\\libzmq\\src\\epoll.cpp:100). \n",
      "Pour plus d’informations, consultez Jupyter <a href='command:jupyter.viewOutput'>log</a>."
     ]
    }
   ],
   "source": [
    "def rastrigin(X) :\n",
    "    A = 10    \n",
    "    return A*np.size(X) + sum([(x**2 - A * np.cos(2 * math.pi * x)) for x in X])"
   ]
  },
  {
   "cell_type": "markdown",
   "metadata": {},
   "source": [
    "## 4/ Test\n",
    "\n",
    "Testons maintenant notre fonction de PSO sur :\n",
    "\n",
    "__Schaffer4__\n",
    "\n",
    "Génération de la population :"
   ]
  },
  {
   "cell_type": "code",
   "execution_count": null,
   "metadata": {},
   "outputs": [
    {
     "ename": "",
     "evalue": "",
     "output_type": "error",
     "traceback": [
      "\u001b[1;31mÉchec du démarrage du noyau. \n",
      "C:\\Users\\Loaï univ\\AppData\\Local\\Packages\\PythonSoftwareFoundation.Python.3.9_qbz5n2kfra8p0\\LocalCache\\local-packages\\Python39\\site-packages\\traitlets\\traitlets.py:2392: FutureWarning: Supporting extra quotes around strings is deprecated in traitlets 5.0. You can use 'hmac-sha256' instead of '\"hmac-sha256\"' if you require traitlets >=5.\r\n",
      "  warn(\r\n",
      "C:\\Users\\Loaï univ\\AppData\\Local\\Packages\\PythonSoftwareFoundation.Python.3.9_qbz5n2kfra8p0\\LocalCache\\local-packages\\Python39\\site-packages\\traitlets\\traitlets.py:2346: FutureWarning: Supporting extra quotes around Bytes is deprecated in traitlets 5.0. Use '44ddb25a-922f-41cc-a623-8f57070c61cb' instead of 'b\"44ddb25a-922f-41cc-a623-8f57070c61cb\"'.\r\n",
      "  warn(\r\n",
      "C:\\Users\\Loaï univ\\AppData\\Local\\Packages\\PythonSoftwareFoundation.Python.3.9_qbz5n2kfra8p0\\LocalCache\\local-packages\\Python39\\site-packages\\traitlets\\traitlets.py:2392: FutureWarning: Supporting extra quotes around strings is deprecated in traitlets 5.0. You can use 'c:\\\\Users\\\\Loaï univ\\\\AppData\\\\Roaming\\\\jupyter\\\\runtime\\\\kernel-v2-16192p2CRA7RdYrl7.json' instead of '\"c:\\\\Users\\\\Loaï univ\\\\AppData\\\\Roaming\\\\jupyter\\\\runtime\\\\kernel-v2-16192p2CRA7RdYrl7.json\"' if you require traitlets >=5.\r\n",
      "  warn(\r\n",
      "Bad file descriptor (C:\\projects\\libzmq\\src\\epoll.cpp:100). \n",
      "Pour plus d’informations, consultez Jupyter <a href='command:jupyter.viewOutput'>log</a>."
     ]
    }
   ],
   "source": [
    "# On def les bornes de l'intervalle [a,b]\n",
    "borne_Inf = - 100\n",
    "borne_Sup = 100\n",
    "\n",
    "# Dimension de la population (P)\n",
    "dim_population = 50\n",
    "\n",
    "# Dimension des particules (D)\n",
    "dim_particule = 2\n",
    "\n",
    "\n",
    "# Définit la population \n",
    "a = np.ones(dim_particule) * borne_Inf\n",
    "b = np.ones(dim_particule) * borne_Sup\n",
    "pop = qmc.LatinHypercube(dim_particule)\n",
    "P_0 = qmc.scale(pop.random(n=dim_population), a, b)\n",
    "\n",
    "\n",
    "plt.plot(P_0, '.')\n"
   ]
  },
  {
   "cell_type": "markdown",
   "metadata": {},
   "source": [
    "Test de la PSO sur la fonction Schaffer4 :"
   ]
  },
  {
   "cell_type": "code",
   "execution_count": null,
   "metadata": {},
   "outputs": [
    {
     "ename": "",
     "evalue": "",
     "output_type": "error",
     "traceback": [
      "\u001b[1;31mÉchec du démarrage du noyau. \n",
      "C:\\Users\\Loaï univ\\AppData\\Local\\Packages\\PythonSoftwareFoundation.Python.3.9_qbz5n2kfra8p0\\LocalCache\\local-packages\\Python39\\site-packages\\traitlets\\traitlets.py:2392: FutureWarning: Supporting extra quotes around strings is deprecated in traitlets 5.0. You can use 'hmac-sha256' instead of '\"hmac-sha256\"' if you require traitlets >=5.\r\n",
      "  warn(\r\n",
      "C:\\Users\\Loaï univ\\AppData\\Local\\Packages\\PythonSoftwareFoundation.Python.3.9_qbz5n2kfra8p0\\LocalCache\\local-packages\\Python39\\site-packages\\traitlets\\traitlets.py:2346: FutureWarning: Supporting extra quotes around Bytes is deprecated in traitlets 5.0. Use '44ddb25a-922f-41cc-a623-8f57070c61cb' instead of 'b\"44ddb25a-922f-41cc-a623-8f57070c61cb\"'.\r\n",
      "  warn(\r\n",
      "C:\\Users\\Loaï univ\\AppData\\Local\\Packages\\PythonSoftwareFoundation.Python.3.9_qbz5n2kfra8p0\\LocalCache\\local-packages\\Python39\\site-packages\\traitlets\\traitlets.py:2392: FutureWarning: Supporting extra quotes around strings is deprecated in traitlets 5.0. You can use 'c:\\\\Users\\\\Loaï univ\\\\AppData\\\\Roaming\\\\jupyter\\\\runtime\\\\kernel-v2-16192p2CRA7RdYrl7.json' instead of '\"c:\\\\Users\\\\Loaï univ\\\\AppData\\\\Roaming\\\\jupyter\\\\runtime\\\\kernel-v2-16192p2CRA7RdYrl7.json\"' if you require traitlets >=5.\r\n",
      "  warn(\r\n",
      "Bad file descriptor (C:\\projects\\libzmq\\src\\epoll.cpp:100). \n",
      "Pour plus d’informations, consultez Jupyter <a href='command:jupyter.viewOutput'>log</a>."
     ]
    }
   ],
   "source": [
    "# Vitesses initiales\n",
    "V_0 = np.array([[0.0 for i in range(dim_particule)] for j in range(dim_population)])\n",
    "\n",
    "# k_max\n",
    "k_max = 500\n",
    "\n",
    "# w \n",
    "w = np.array([0.8, 0.1, 0.1])\n",
    "\n",
    "print(PSO(schaffer4, P_0, V_0, k_max, w, X_acm, borne_Inf, borne_Sup))\n",
    "print(schaffer4(PSO(schaffer4, P_0, V_0, k_max, w, X_acm, borne_Inf, borne_Sup)))"
   ]
  },
  {
   "cell_type": "markdown",
   "metadata": {},
   "source": [
    "\n",
    "__Rastrigin__\n",
    "\n",
    "Génération de la population :\n"
   ]
  },
  {
   "cell_type": "code",
   "execution_count": null,
   "metadata": {},
   "outputs": [
    {
     "ename": "",
     "evalue": "",
     "output_type": "error",
     "traceback": [
      "\u001b[1;31mÉchec du démarrage du noyau. \n",
      "C:\\Users\\Loaï univ\\AppData\\Local\\Packages\\PythonSoftwareFoundation.Python.3.9_qbz5n2kfra8p0\\LocalCache\\local-packages\\Python39\\site-packages\\traitlets\\traitlets.py:2392: FutureWarning: Supporting extra quotes around strings is deprecated in traitlets 5.0. You can use 'hmac-sha256' instead of '\"hmac-sha256\"' if you require traitlets >=5.\r\n",
      "  warn(\r\n",
      "C:\\Users\\Loaï univ\\AppData\\Local\\Packages\\PythonSoftwareFoundation.Python.3.9_qbz5n2kfra8p0\\LocalCache\\local-packages\\Python39\\site-packages\\traitlets\\traitlets.py:2346: FutureWarning: Supporting extra quotes around Bytes is deprecated in traitlets 5.0. Use '44ddb25a-922f-41cc-a623-8f57070c61cb' instead of 'b\"44ddb25a-922f-41cc-a623-8f57070c61cb\"'.\r\n",
      "  warn(\r\n",
      "C:\\Users\\Loaï univ\\AppData\\Local\\Packages\\PythonSoftwareFoundation.Python.3.9_qbz5n2kfra8p0\\LocalCache\\local-packages\\Python39\\site-packages\\traitlets\\traitlets.py:2392: FutureWarning: Supporting extra quotes around strings is deprecated in traitlets 5.0. You can use 'c:\\\\Users\\\\Loaï univ\\\\AppData\\\\Roaming\\\\jupyter\\\\runtime\\\\kernel-v2-16192p2CRA7RdYrl7.json' instead of '\"c:\\\\Users\\\\Loaï univ\\\\AppData\\\\Roaming\\\\jupyter\\\\runtime\\\\kernel-v2-16192p2CRA7RdYrl7.json\"' if you require traitlets >=5.\r\n",
      "  warn(\r\n",
      "Bad file descriptor (C:\\projects\\libzmq\\src\\epoll.cpp:100). \n",
      "Pour plus d’informations, consultez Jupyter <a href='command:jupyter.viewOutput'>log</a>."
     ]
    }
   ],
   "source": [
    "# On def les bornes de l'intervalle [a,b]\n",
    "borne_Inf = - 5.12\n",
    "borne_Sup = 5.12\n",
    "\n",
    "# Dimension de la population (P)\n",
    "dim_population = 50\n",
    "\n",
    "# Dimension des particules (D)\n",
    "dim_particule = 2\n",
    "\n",
    "\n",
    "# Définit la population \n",
    "a = np.ones(dim_particule) * borne_Inf\n",
    "b = np.ones(dim_particule) * borne_Sup\n",
    "pop = qmc.LatinHypercube(dim_particule)\n",
    "P_0 = qmc.scale(pop.random(n=dim_population), a, b)\n",
    "\n",
    "\n",
    "plt.plot(P_0, '.')\n"
   ]
  },
  {
   "cell_type": "markdown",
   "metadata": {},
   "source": [
    "Test de la PSO sur la fonction Rastrigin :"
   ]
  },
  {
   "cell_type": "code",
   "execution_count": null,
   "metadata": {},
   "outputs": [
    {
     "ename": "",
     "evalue": "",
     "output_type": "error",
     "traceback": [
      "\u001b[1;31mÉchec du démarrage du noyau. \n",
      "C:\\Users\\Loaï univ\\AppData\\Local\\Packages\\PythonSoftwareFoundation.Python.3.9_qbz5n2kfra8p0\\LocalCache\\local-packages\\Python39\\site-packages\\traitlets\\traitlets.py:2392: FutureWarning: Supporting extra quotes around strings is deprecated in traitlets 5.0. You can use 'hmac-sha256' instead of '\"hmac-sha256\"' if you require traitlets >=5.\r\n",
      "  warn(\r\n",
      "C:\\Users\\Loaï univ\\AppData\\Local\\Packages\\PythonSoftwareFoundation.Python.3.9_qbz5n2kfra8p0\\LocalCache\\local-packages\\Python39\\site-packages\\traitlets\\traitlets.py:2346: FutureWarning: Supporting extra quotes around Bytes is deprecated in traitlets 5.0. Use '44ddb25a-922f-41cc-a623-8f57070c61cb' instead of 'b\"44ddb25a-922f-41cc-a623-8f57070c61cb\"'.\r\n",
      "  warn(\r\n",
      "C:\\Users\\Loaï univ\\AppData\\Local\\Packages\\PythonSoftwareFoundation.Python.3.9_qbz5n2kfra8p0\\LocalCache\\local-packages\\Python39\\site-packages\\traitlets\\traitlets.py:2392: FutureWarning: Supporting extra quotes around strings is deprecated in traitlets 5.0. You can use 'c:\\\\Users\\\\Loaï univ\\\\AppData\\\\Roaming\\\\jupyter\\\\runtime\\\\kernel-v2-16192p2CRA7RdYrl7.json' instead of '\"c:\\\\Users\\\\Loaï univ\\\\AppData\\\\Roaming\\\\jupyter\\\\runtime\\\\kernel-v2-16192p2CRA7RdYrl7.json\"' if you require traitlets >=5.\r\n",
      "  warn(\r\n",
      "Bad file descriptor (C:\\projects\\libzmq\\src\\epoll.cpp:100). \n",
      "Pour plus d’informations, consultez Jupyter <a href='command:jupyter.viewOutput'>log</a>."
     ]
    }
   ],
   "source": [
    "# Vitesses initiales\n",
    "V_0 = np.array([[0.0 for i in range(dim_particule)] for j in range(dim_population)])\n",
    "\n",
    "# k_max\n",
    "k_max = 500\n",
    "\n",
    "# w \n",
    "w = np.array([0.8, 0.1, 0.1])\n",
    "\n",
    "PSO_R =  PSO(rastrigin, P_0, V_0, k_max, w, X_acm, borne_Inf, borne_Sup)\n",
    "print(PSO_R)\n",
    "print(rastrigin(PSO_R))"
   ]
  },
  {
   "cell_type": "markdown",
   "metadata": {},
   "source": [
    "## 5/ Evolution de la popultaion suivant le nombre d'itérations :\n",
    "\n",
    "On réprésente, pour les deux fonctions de tests, l'évolution des populations en fonction du nombre d'itération. Pour cela, on définit deux fonctions : une fonction qui permet l'affichage des graphiques, et une nouvelle fonction PSO nommée peso pour permettre l'affichage depuis certaines itérations.\n"
   ]
  },
  {
   "cell_type": "code",
   "execution_count": null,
   "metadata": {},
   "outputs": [
    {
     "ename": "",
     "evalue": "",
     "output_type": "error",
     "traceback": [
      "\u001b[1;31mÉchec du démarrage du noyau. \n",
      "C:\\Users\\Loaï univ\\AppData\\Local\\Packages\\PythonSoftwareFoundation.Python.3.9_qbz5n2kfra8p0\\LocalCache\\local-packages\\Python39\\site-packages\\traitlets\\traitlets.py:2392: FutureWarning: Supporting extra quotes around strings is deprecated in traitlets 5.0. You can use 'hmac-sha256' instead of '\"hmac-sha256\"' if you require traitlets >=5.\r\n",
      "  warn(\r\n",
      "C:\\Users\\Loaï univ\\AppData\\Local\\Packages\\PythonSoftwareFoundation.Python.3.9_qbz5n2kfra8p0\\LocalCache\\local-packages\\Python39\\site-packages\\traitlets\\traitlets.py:2346: FutureWarning: Supporting extra quotes around Bytes is deprecated in traitlets 5.0. Use '44ddb25a-922f-41cc-a623-8f57070c61cb' instead of 'b\"44ddb25a-922f-41cc-a623-8f57070c61cb\"'.\r\n",
      "  warn(\r\n",
      "C:\\Users\\Loaï univ\\AppData\\Local\\Packages\\PythonSoftwareFoundation.Python.3.9_qbz5n2kfra8p0\\LocalCache\\local-packages\\Python39\\site-packages\\traitlets\\traitlets.py:2392: FutureWarning: Supporting extra quotes around strings is deprecated in traitlets 5.0. You can use 'c:\\\\Users\\\\Loaï univ\\\\AppData\\\\Roaming\\\\jupyter\\\\runtime\\\\kernel-v2-16192p2CRA7RdYrl7.json' instead of '\"c:\\\\Users\\\\Loaï univ\\\\AppData\\\\Roaming\\\\jupyter\\\\runtime\\\\kernel-v2-16192p2CRA7RdYrl7.json\"' if you require traitlets >=5.\r\n",
      "  warn(\r\n",
      "Bad file descriptor (C:\\projects\\libzmq\\src\\epoll.cpp:100). \n",
      "Pour plus d’informations, consultez Jupyter <a href='command:jupyter.viewOutput'>log</a>."
     ]
    }
   ],
   "source": [
    "# Fonction\n",
    "def affichage(pox, posy, posz, Z, dim_pop, P_k, gb, color):\n",
    "    \n",
    "    # On veut affcher le 500e sur le 4ème emplacement.\n",
    "    if(posz == k_max-1):\n",
    "        plt.subplot(pox, posy, 4)\n",
    "        \n",
    "    # Sinon on affiche sur le posz\n",
    "    else:\n",
    "        plt.subplot(pox, posy, posz)\n",
    "        \n",
    "    plt.title(\"Population au rang : \" + str(posz))\n",
    "        \n",
    "    # On affiche le graphique\n",
    "    plt.imshow(Z, interpolation=\"bicubic\", origin=\"lower\", extent=[borne_Inf, borne_Sup, borne_Inf, borne_Sup])\n",
    "    \n",
    "    # On affiche les points\n",
    "    for i in range(dim_pop):\n",
    "        plt.scatter(P_k[i][0],P_k[i][1], c = color, s = 5)\n",
    "        \n",
    "    plt.scatter(gb[0], gb[1], c = 'black', s = 10)\n",
    "\n",
    "\n",
    "# Fonction PSO dédié à l'affichage des fonctions\n",
    "def peso(f, P_0, V_0, K_max, w, r, X_min, X_max):\n",
    "    fig = plt.figure(figsize=(10, 7))\n",
    "    \n",
    "    x = np.linspace(borne_Inf, borne_Sup, 500)\n",
    "    y = np.linspace(borne_Inf, borne_Sup, 500)\n",
    "    X, Y = np.meshgrid(x, y)\n",
    "    \n",
    "    # calcul du tableau des valeurs de Z\n",
    "    Z = f([X,Y]) \n",
    "    \n",
    "    P_k = deepcopy(P_0)\n",
    "    V_k = deepcopy(V_0)\n",
    "    \n",
    "    # Taille de la population\n",
    "    dim_pop = np.size(P_0, 0)\n",
    "    \n",
    "    # Taille des vecteurs \n",
    "    dim_part = np.size(P_0, 1)\n",
    "    \n",
    "    for i in range(dim_pop):\n",
    "        plt.scatter(P_0[i][0],P_0[i][1], c = 'yellow', s = 5)\n",
    "        #plt.scatter(P_k[i][0],P_k[i][1], c = 'red', s = 5)\n",
    "    plt.arrow(P_0[0][0],P_0[0][1],V_0[0][0],V_0[0][1], width = 0.025,  color = 'brown')     \n",
    "    \n",
    "    # Array contenant le personnal best pour chaque x_i\n",
    "    pb = deepcopy(P_k) \n",
    "    \n",
    "    # Global best\n",
    "    gb = P_k[0] \n",
    "    P_gb = deepcopy(P_k)\n",
    "    V_gb = deepcopy(V_k)\n",
    "    \n",
    "    for i in range(dim_pop):\n",
    "         if (f(gb) > f(pb[i])):\n",
    "                gb = pb[i]\n",
    "                \n",
    "    # On itère \n",
    "    for k in range(1, K_max):\n",
    "    \n",
    "        # on itère pour trouver Vik+1 et Xik+1 en fonction de Vik et de Xik \n",
    "        for i in range(dim_pop):\n",
    "            V_k[i,:] = w[0] * V_k[i,:] + r[k] * w[1] *(pb[i,:] - P_k[i,:]) + r[k] * w[2] * (gb - P_k[i,:])\n",
    "            P_k[i,:] += V_k[i,:]\n",
    "            # on met à jour les Xik pour qu'ils restent dans l'intervalle [Xmin,Xmax]\n",
    "            for j in range(dim_part):\n",
    "                P_k[i][j] = min(X_max, max(P_k[i][j], X_min))\n",
    "            \n",
    "            # On détermine  les pb\n",
    "            if(f(pb[i]) > f(P_k[i])):\n",
    "                pb[i] = P_k[i]\n",
    "            \n",
    "            # On détermine  les gb\n",
    "            if (f(gb) > f(pb[i])):\n",
    "                gb = pb[i]\n",
    "        \n",
    "        # On affiche les grpahs pour les itérations 1, 2, 3 et k_max-1.\n",
    "        if (k == 1):\n",
    "            affichage(2, 2, k, Z, dim_pop, P_k, gb, 'yellow')\n",
    "        if (k == 2):\n",
    "            affichage(2, 2, k, Z, dim_pop, P_k, gb, 'yellow')\n",
    "        if (k == 3):\n",
    "            affichage(2, 2, k, Z, dim_pop, P_k, gb, 'yellow')\n",
    "        if (k == k_max-1):\n",
    "            affichage(2, 2, k, Z, dim_pop, P_k, gb, 'yellow')\n",
    "        \n",
    "        \n",
    "    plt.subplots_adjust(bottom=0.1, right=0.8, top=0.9)\n",
    "    cax = plt.axes([0.85, 0.1, 0.075, 0.8])\n",
    "    plt.colorbar(cax=cax)\n",
    "    plt.show()\n",
    "    # Au bout de K_max itérations on renvoie le global best (ce vers quoi le nuage de points converge)\n",
    "    \n",
    "    return gb"
   ]
  },
  {
   "cell_type": "markdown",
   "metadata": {},
   "source": [
    "__Schaffer n°4__\n",
    "\n",
    "On observe l'évolution des populations vers le minimum de la fonction Schaffer4 :"
   ]
  },
  {
   "cell_type": "code",
   "execution_count": null,
   "metadata": {},
   "outputs": [
    {
     "ename": "",
     "evalue": "",
     "output_type": "error",
     "traceback": [
      "\u001b[1;31mÉchec du démarrage du noyau. \n",
      "C:\\Users\\Loaï univ\\AppData\\Local\\Packages\\PythonSoftwareFoundation.Python.3.9_qbz5n2kfra8p0\\LocalCache\\local-packages\\Python39\\site-packages\\traitlets\\traitlets.py:2392: FutureWarning: Supporting extra quotes around strings is deprecated in traitlets 5.0. You can use 'hmac-sha256' instead of '\"hmac-sha256\"' if you require traitlets >=5.\r\n",
      "  warn(\r\n",
      "C:\\Users\\Loaï univ\\AppData\\Local\\Packages\\PythonSoftwareFoundation.Python.3.9_qbz5n2kfra8p0\\LocalCache\\local-packages\\Python39\\site-packages\\traitlets\\traitlets.py:2346: FutureWarning: Supporting extra quotes around Bytes is deprecated in traitlets 5.0. Use '44ddb25a-922f-41cc-a623-8f57070c61cb' instead of 'b\"44ddb25a-922f-41cc-a623-8f57070c61cb\"'.\r\n",
      "  warn(\r\n",
      "C:\\Users\\Loaï univ\\AppData\\Local\\Packages\\PythonSoftwareFoundation.Python.3.9_qbz5n2kfra8p0\\LocalCache\\local-packages\\Python39\\site-packages\\traitlets\\traitlets.py:2392: FutureWarning: Supporting extra quotes around strings is deprecated in traitlets 5.0. You can use 'c:\\\\Users\\\\Loaï univ\\\\AppData\\\\Roaming\\\\jupyter\\\\runtime\\\\kernel-v2-16192p2CRA7RdYrl7.json' instead of '\"c:\\\\Users\\\\Loaï univ\\\\AppData\\\\Roaming\\\\jupyter\\\\runtime\\\\kernel-v2-16192p2CRA7RdYrl7.json\"' if you require traitlets >=5.\r\n",
      "  warn(\r\n",
      "Bad file descriptor (C:\\projects\\libzmq\\src\\epoll.cpp:100). \n",
      "Pour plus d’informations, consultez Jupyter <a href='command:jupyter.viewOutput'>log</a>."
     ]
    }
   ],
   "source": [
    "# On re-def les bornes de l'intervalle [a,b] (pour plus de lisibilité)\n",
    "borne_Inf = - 50\n",
    "borne_Sup = 50\n",
    "\n",
    "# Re-Définit la population \n",
    "a = np.ones(dim_particule) * borne_Inf\n",
    "b = np.ones(dim_particule) * borne_Sup\n",
    "pop = qmc.LatinHypercube(dim_particule)\n",
    "P_0 = qmc.scale(pop.random(n=dim_population), a, b)\n",
    "\n",
    "\n",
    "gb = peso(schaffer4, P_0, V_0, k_max, np.array([0.8, 0.8, 0.8]),X_lg , borne_Inf, borne_Sup)\n",
    "print(\"global best : \",gb)\n",
    "print(\"f(gb) = \",schaffer4(gb))"
   ]
  },
  {
   "cell_type": "markdown",
   "metadata": {},
   "source": [
    "#### Rastrigin\n",
    "\n",
    "On observe l'évolution des populations vers le minimum de la fonction Rastrigin."
   ]
  },
  {
   "cell_type": "code",
   "execution_count": null,
   "metadata": {},
   "outputs": [
    {
     "ename": "",
     "evalue": "",
     "output_type": "error",
     "traceback": [
      "\u001b[1;31mÉchec du démarrage du noyau. \n",
      "C:\\Users\\Loaï univ\\AppData\\Local\\Packages\\PythonSoftwareFoundation.Python.3.9_qbz5n2kfra8p0\\LocalCache\\local-packages\\Python39\\site-packages\\traitlets\\traitlets.py:2392: FutureWarning: Supporting extra quotes around strings is deprecated in traitlets 5.0. You can use 'hmac-sha256' instead of '\"hmac-sha256\"' if you require traitlets >=5.\r\n",
      "  warn(\r\n",
      "C:\\Users\\Loaï univ\\AppData\\Local\\Packages\\PythonSoftwareFoundation.Python.3.9_qbz5n2kfra8p0\\LocalCache\\local-packages\\Python39\\site-packages\\traitlets\\traitlets.py:2346: FutureWarning: Supporting extra quotes around Bytes is deprecated in traitlets 5.0. Use '44ddb25a-922f-41cc-a623-8f57070c61cb' instead of 'b\"44ddb25a-922f-41cc-a623-8f57070c61cb\"'.\r\n",
      "  warn(\r\n",
      "C:\\Users\\Loaï univ\\AppData\\Local\\Packages\\PythonSoftwareFoundation.Python.3.9_qbz5n2kfra8p0\\LocalCache\\local-packages\\Python39\\site-packages\\traitlets\\traitlets.py:2392: FutureWarning: Supporting extra quotes around strings is deprecated in traitlets 5.0. You can use 'c:\\\\Users\\\\Loaï univ\\\\AppData\\\\Roaming\\\\jupyter\\\\runtime\\\\kernel-v2-16192p2CRA7RdYrl7.json' instead of '\"c:\\\\Users\\\\Loaï univ\\\\AppData\\\\Roaming\\\\jupyter\\\\runtime\\\\kernel-v2-16192p2CRA7RdYrl7.json\"' if you require traitlets >=5.\r\n",
      "  warn(\r\n",
      "Bad file descriptor (C:\\projects\\libzmq\\src\\epoll.cpp:100). \n",
      "Pour plus d’informations, consultez Jupyter <a href='command:jupyter.viewOutput'>log</a>."
     ]
    }
   ],
   "source": [
    "# On re-definit les bornes de l'intervalle [a,b]\n",
    "borne_Inf = - 5.12\n",
    "borne_Sup = 5.12\n",
    "\n",
    "# On re-Définit la population \n",
    "a = np.ones(dim_particule) * borne_Inf\n",
    "b = np.ones(dim_particule) * borne_Sup\n",
    "pop = qmc.LatinHypercube(dim_particule)\n",
    "P_0 = qmc.scale(pop.random(n=dim_population), a, b)\n",
    "\n",
    "# Fonction pour afficher Rastrigin dans les graphiques.\n",
    "def rastriginGraph(X) :\n",
    "    return (20 + (X[0]**2 - 10 * np.cos(2 * math.pi * X[0])) + (X[1]**2 - 10 * np.cos(2 * math.pi * X[1])))\n",
    "\n",
    "\n",
    "gb = peso(rastriginGraph, P_0, V_0, k_max, np.array([0.8, 0.8, 0.8]),X_lg , borne_Inf, borne_Sup)\n",
    "print(\"global best : \",gb)\n",
    "print(\"f(gb) = \",rastrigin(gb))"
   ]
  },
  {
   "cell_type": "markdown",
   "metadata": {},
   "source": [
    "## 6/ Etude paramétrique\n",
    "\n",
    "On étudie les différences de minimisation en fonction des paramètres choisis pour la PSO. Pour cela on définit la fonction suivante :"
   ]
  },
  {
   "cell_type": "code",
   "execution_count": null,
   "metadata": {},
   "outputs": [
    {
     "ename": "",
     "evalue": "",
     "output_type": "error",
     "traceback": [
      "\u001b[1;31mÉchec du démarrage du noyau. \n",
      "C:\\Users\\Loaï univ\\AppData\\Local\\Packages\\PythonSoftwareFoundation.Python.3.9_qbz5n2kfra8p0\\LocalCache\\local-packages\\Python39\\site-packages\\traitlets\\traitlets.py:2392: FutureWarning: Supporting extra quotes around strings is deprecated in traitlets 5.0. You can use 'hmac-sha256' instead of '\"hmac-sha256\"' if you require traitlets >=5.\r\n",
      "  warn(\r\n",
      "C:\\Users\\Loaï univ\\AppData\\Local\\Packages\\PythonSoftwareFoundation.Python.3.9_qbz5n2kfra8p0\\LocalCache\\local-packages\\Python39\\site-packages\\traitlets\\traitlets.py:2346: FutureWarning: Supporting extra quotes around Bytes is deprecated in traitlets 5.0. Use '44ddb25a-922f-41cc-a623-8f57070c61cb' instead of 'b\"44ddb25a-922f-41cc-a623-8f57070c61cb\"'.\r\n",
      "  warn(\r\n",
      "C:\\Users\\Loaï univ\\AppData\\Local\\Packages\\PythonSoftwareFoundation.Python.3.9_qbz5n2kfra8p0\\LocalCache\\local-packages\\Python39\\site-packages\\traitlets\\traitlets.py:2392: FutureWarning: Supporting extra quotes around strings is deprecated in traitlets 5.0. You can use 'c:\\\\Users\\\\Loaï univ\\\\AppData\\\\Roaming\\\\jupyter\\\\runtime\\\\kernel-v2-16192p2CRA7RdYrl7.json' instead of '\"c:\\\\Users\\\\Loaï univ\\\\AppData\\\\Roaming\\\\jupyter\\\\runtime\\\\kernel-v2-16192p2CRA7RdYrl7.json\"' if you require traitlets >=5.\r\n",
      "  warn(\r\n",
      "Bad file descriptor (C:\\projects\\libzmq\\src\\epoll.cpp:100). \n",
      "Pour plus d’informations, consultez Jupyter <a href='command:jupyter.viewOutput'>log</a>."
     ]
    }
   ],
   "source": [
    "def etudeParametrique(f, minimize, P, D, K, borne_Inf, borne_Sup) :\n",
    "    # On initialise les omega\n",
    "    w = [0.767677,0.505051,0.828283]\n",
    "\n",
    "    # On defini les vecteurs d'erreurs en fonctions des tailles des arrays P, D et K\n",
    "    erreur_chaos = np.zeros(np.size(P)*np.size(D)*np.size(K))\n",
    "    erreur_random = np.zeros(np.size(P)*np.size(D)*np.size(K))\n",
    "    i=0\n",
    "\n",
    "    # Iteration parmi les differentes tailles de population\n",
    "    for p in P:\n",
    "        # Iteration parmi les differentes dimensions de particules\n",
    "        for d in D:    \n",
    "            # Iteration parmi les differents k_max proposés\n",
    "            for k in K:\n",
    "\n",
    "                # On reinitialise les vitesses initiales a chaques changements \n",
    "                V_0 = np.array([[0.0 for i in range(d)] for j in range(p)])\n",
    "\n",
    "                # On reinitialise les populations a chaques changements \n",
    "                a = np.ones(d) * borne_Inf\n",
    "                b = np.ones(d) * borne_Sup\n",
    "                pop = qmc.LatinHypercube(d)\n",
    "                P_0 = qmc.scale(pop.random(n=p), a, b)\n",
    "                \n",
    "                # On reinitialise les r a chaques changements \n",
    "                r_random = np.random.rand(k)\n",
    "                r_chaos = acm(np.zeros(k), np.zeros(k), k)\n",
    "                \n",
    "                # On calcul les PSO pour les differents r\n",
    "                PSO_chaos = PSO(f, P_0, V_0, k, w, r_chaos, borne_Inf, borne_Sup )\n",
    "                PSO_random = PSO(f, P_0, V_0, k, w, r_random, borne_Inf, borne_Sup )\n",
    "\n",
    "                # On stock les differentes erreurs\n",
    "                if (abs (f(minimize))==0) :\n",
    "                    erreur_chaos[i] = abs(f(PSO_chaos))\n",
    "                    erreur_random[i] = abs(f(PSO_random))\n",
    "\n",
    "                else :\n",
    "                    erreur_chaos[i] = abs(f(PSO_chaos) - f(minimize)) / abs (f(minimize))\n",
    "                    erreur_random[i] = abs(f(PSO_random) - f(minimize)) / abs (f(minimize))\n",
    "                \n",
    "                i+=1\n",
    "    return erreur_chaos, erreur_random"
   ]
  },
  {
   "cell_type": "markdown",
   "metadata": {},
   "source": [
    "__Schuffer__ :\n",
    "\n",
    "On test d'abord l'influence de la taille de population sur la PSO de la fonction Schaffer 4 :"
   ]
  },
  {
   "cell_type": "code",
   "execution_count": null,
   "metadata": {},
   "outputs": [
    {
     "ename": "",
     "evalue": "",
     "output_type": "error",
     "traceback": [
      "\u001b[1;31mÉchec du démarrage du noyau. \n",
      "C:\\Users\\Loaï univ\\AppData\\Local\\Packages\\PythonSoftwareFoundation.Python.3.9_qbz5n2kfra8p0\\LocalCache\\local-packages\\Python39\\site-packages\\traitlets\\traitlets.py:2392: FutureWarning: Supporting extra quotes around strings is deprecated in traitlets 5.0. You can use 'hmac-sha256' instead of '\"hmac-sha256\"' if you require traitlets >=5.\r\n",
      "  warn(\r\n",
      "C:\\Users\\Loaï univ\\AppData\\Local\\Packages\\PythonSoftwareFoundation.Python.3.9_qbz5n2kfra8p0\\LocalCache\\local-packages\\Python39\\site-packages\\traitlets\\traitlets.py:2346: FutureWarning: Supporting extra quotes around Bytes is deprecated in traitlets 5.0. Use '44ddb25a-922f-41cc-a623-8f57070c61cb' instead of 'b\"44ddb25a-922f-41cc-a623-8f57070c61cb\"'.\r\n",
      "  warn(\r\n",
      "C:\\Users\\Loaï univ\\AppData\\Local\\Packages\\PythonSoftwareFoundation.Python.3.9_qbz5n2kfra8p0\\LocalCache\\local-packages\\Python39\\site-packages\\traitlets\\traitlets.py:2392: FutureWarning: Supporting extra quotes around strings is deprecated in traitlets 5.0. You can use 'c:\\\\Users\\\\Loaï univ\\\\AppData\\\\Roaming\\\\jupyter\\\\runtime\\\\kernel-v2-16192p2CRA7RdYrl7.json' instead of '\"c:\\\\Users\\\\Loaï univ\\\\AppData\\\\Roaming\\\\jupyter\\\\runtime\\\\kernel-v2-16192p2CRA7RdYrl7.json\"' if you require traitlets >=5.\r\n",
      "  warn(\r\n",
      "Bad file descriptor (C:\\projects\\libzmq\\src\\epoll.cpp:100). \n",
      "Pour plus d’informations, consultez Jupyter <a href='command:jupyter.viewOutput'>log</a>."
     ]
    }
   ],
   "source": [
    "\n",
    "minimize = np.array([0,1.25313])\n",
    "\n",
    "# Taille des populations\n",
    "P = np.array([10, 20, 40, 80, 160, 320])\n",
    "\n",
    "# Dimension des particules\n",
    "D = np.array([2])\n",
    "\n",
    "# Nombre d'itérations\n",
    "K = np.array([50])\n",
    "\n",
    "n = np.size(P)\n",
    "\n",
    "borne_inf = -100\n",
    "borne_sup = 100\n",
    "\n",
    "erreur_chaos = np.zeros((n,n))\n",
    "erreur_random = np.zeros((n,n))\n",
    "\n",
    "for i in range(n):\n",
    "    [erreur_chaos[i], erreur_random[i]] = etudeParametrique(schaffer4, minimize, P, D, K, borne_inf, borne_sup)\n",
    "\n",
    "\n",
    "print(np.mean(erreur_chaos, axis=0))\n",
    "print(np.mean(erreur_random, axis=0))\n",
    "\n",
    "\n",
    "plt.loglog(P,np.mean(erreur_chaos, axis=0))\n",
    "plt.loglog(P,np.mean(erreur_random, axis=0))\n",
    "plt.xlabel(\"P\", size = 10)\n",
    "plt.ylabel(\"ERJ\", size = 10)\n",
    "plt.title(\"variation de l'erreur en fonction de P\")\n",
    "plt.legend([\"ERJ avec chaos map\",\"ERJ avec r random\"])\n",
    "plt.show()\n"
   ]
  },
  {
   "cell_type": "markdown",
   "metadata": {},
   "source": [
    "On test l'influence de la taille de k sur la PSO de la fonction Schaffer 4 :"
   ]
  },
  {
   "cell_type": "code",
   "execution_count": null,
   "metadata": {},
   "outputs": [
    {
     "ename": "",
     "evalue": "",
     "output_type": "error",
     "traceback": [
      "\u001b[1;31mÉchec du démarrage du noyau. \n",
      "C:\\Users\\Loaï univ\\AppData\\Local\\Packages\\PythonSoftwareFoundation.Python.3.9_qbz5n2kfra8p0\\LocalCache\\local-packages\\Python39\\site-packages\\traitlets\\traitlets.py:2392: FutureWarning: Supporting extra quotes around strings is deprecated in traitlets 5.0. You can use 'hmac-sha256' instead of '\"hmac-sha256\"' if you require traitlets >=5.\r\n",
      "  warn(\r\n",
      "C:\\Users\\Loaï univ\\AppData\\Local\\Packages\\PythonSoftwareFoundation.Python.3.9_qbz5n2kfra8p0\\LocalCache\\local-packages\\Python39\\site-packages\\traitlets\\traitlets.py:2346: FutureWarning: Supporting extra quotes around Bytes is deprecated in traitlets 5.0. Use '44ddb25a-922f-41cc-a623-8f57070c61cb' instead of 'b\"44ddb25a-922f-41cc-a623-8f57070c61cb\"'.\r\n",
      "  warn(\r\n",
      "C:\\Users\\Loaï univ\\AppData\\Local\\Packages\\PythonSoftwareFoundation.Python.3.9_qbz5n2kfra8p0\\LocalCache\\local-packages\\Python39\\site-packages\\traitlets\\traitlets.py:2392: FutureWarning: Supporting extra quotes around strings is deprecated in traitlets 5.0. You can use 'c:\\\\Users\\\\Loaï univ\\\\AppData\\\\Roaming\\\\jupyter\\\\runtime\\\\kernel-v2-16192p2CRA7RdYrl7.json' instead of '\"c:\\\\Users\\\\Loaï univ\\\\AppData\\\\Roaming\\\\jupyter\\\\runtime\\\\kernel-v2-16192p2CRA7RdYrl7.json\"' if you require traitlets >=5.\r\n",
      "  warn(\r\n",
      "Bad file descriptor (C:\\projects\\libzmq\\src\\epoll.cpp:100). \n",
      "Pour plus d’informations, consultez Jupyter <a href='command:jupyter.viewOutput'>log</a>."
     ]
    }
   ],
   "source": [
    "minimize = np.array([0,1.25313])\n",
    "\n",
    "# Taille des populations\n",
    "P = np.array([40])\n",
    "\n",
    "# Dimension des particules\n",
    "D = np.array([2])\n",
    "\n",
    "# Nombre d'itérations\n",
    "K = np.array([10, 50, 100, 500, 1000])\n",
    "\n",
    "n = np.size(K)\n",
    "\n",
    "borne_inf = -100\n",
    "borne_sup = 100\n",
    "\n",
    "erreur_chaos = np.zeros((n,n))\n",
    "erreur_random = np.zeros((n,n))\n",
    "\n",
    "for i in range(n):\n",
    "    [erreur_chaos[i], erreur_random[i]] = etudeParametrique(schaffer4, minimize, P, D, K, borne_inf, borne_sup)\n",
    "\n",
    "print(np.mean(erreur_chaos, axis=0))\n",
    "print(np.mean(erreur_random, axis=0))\n",
    "\n",
    "\n",
    "plt.loglog(K,np.mean(erreur_chaos, axis=0))\n",
    "plt.loglog(K,np.mean(erreur_random, axis=0))\n",
    "plt.xlabel(\"K\", size = 10)\n",
    "plt.ylabel(\"ERJ\", size = 10)\n",
    "plt.title(\"variation de l'erreur en fonction de K\")\n",
    "plt.legend([\"ERJ avec chaos map\",\"ERJ avec r random\"])\n",
    "plt.show()"
   ]
  },
  {
   "cell_type": "markdown",
   "metadata": {},
   "source": [
    "__Rastrigin__ :\n",
    "\n",
    "On test l'influence de la taille de population sur la PSO de la fonction Rastrigin"
   ]
  },
  {
   "cell_type": "code",
   "execution_count": null,
   "metadata": {},
   "outputs": [
    {
     "ename": "",
     "evalue": "",
     "output_type": "error",
     "traceback": [
      "\u001b[1;31mÉchec du démarrage du noyau. \n",
      "C:\\Users\\Loaï univ\\AppData\\Local\\Packages\\PythonSoftwareFoundation.Python.3.9_qbz5n2kfra8p0\\LocalCache\\local-packages\\Python39\\site-packages\\traitlets\\traitlets.py:2392: FutureWarning: Supporting extra quotes around strings is deprecated in traitlets 5.0. You can use 'hmac-sha256' instead of '\"hmac-sha256\"' if you require traitlets >=5.\r\n",
      "  warn(\r\n",
      "C:\\Users\\Loaï univ\\AppData\\Local\\Packages\\PythonSoftwareFoundation.Python.3.9_qbz5n2kfra8p0\\LocalCache\\local-packages\\Python39\\site-packages\\traitlets\\traitlets.py:2346: FutureWarning: Supporting extra quotes around Bytes is deprecated in traitlets 5.0. Use '44ddb25a-922f-41cc-a623-8f57070c61cb' instead of 'b\"44ddb25a-922f-41cc-a623-8f57070c61cb\"'.\r\n",
      "  warn(\r\n",
      "C:\\Users\\Loaï univ\\AppData\\Local\\Packages\\PythonSoftwareFoundation.Python.3.9_qbz5n2kfra8p0\\LocalCache\\local-packages\\Python39\\site-packages\\traitlets\\traitlets.py:2392: FutureWarning: Supporting extra quotes around strings is deprecated in traitlets 5.0. You can use 'c:\\\\Users\\\\Loaï univ\\\\AppData\\\\Roaming\\\\jupyter\\\\runtime\\\\kernel-v2-16192p2CRA7RdYrl7.json' instead of '\"c:\\\\Users\\\\Loaï univ\\\\AppData\\\\Roaming\\\\jupyter\\\\runtime\\\\kernel-v2-16192p2CRA7RdYrl7.json\"' if you require traitlets >=5.\r\n",
      "  warn(\r\n",
      "Bad file descriptor (C:\\projects\\libzmq\\src\\epoll.cpp:100). \n",
      "Pour plus d’informations, consultez Jupyter <a href='command:jupyter.viewOutput'>log</a>."
     ]
    }
   ],
   "source": [
    "\n",
    "minimize = np.array([0, 0])\n",
    "\n",
    "# Taille des populations\n",
    "P = np.array([10, 20, 40, 80, 160, 320])\n",
    "\n",
    "# Dimension des particules\n",
    "D = np.array([2])\n",
    "\n",
    "# Nombre d'itérations\n",
    "K = np.array([50])\n",
    "\n",
    "n = np.size(P)\n",
    "\n",
    "borne_inf = -5.12\n",
    "borne_sup = 5.12\n",
    "\n",
    "erreur_chaos = np.zeros((n,n))\n",
    "erreur_random = np.zeros((n,n))\n",
    "\n",
    "for i in range(n):\n",
    "    [erreur_chaos[i], erreur_random[i]] = etudeParametrique(rastrigin, minimize, P, D, K, borne_inf, borne_sup)\n",
    "\n",
    "\n",
    "print(np.mean(erreur_chaos, axis=0))\n",
    "print(np.mean(erreur_random, axis=0))\n",
    "\n",
    "\n",
    "plt.loglog(P,np.mean(erreur_chaos, axis=0))\n",
    "plt.loglog(P,np.mean(erreur_random, axis=0))\n",
    "plt.xlabel(\"P\", size = 10)\n",
    "plt.ylabel(\"ERJ\", size = 10)\n",
    "plt.title(\"variation de l'erreur en fonction de P\")\n",
    "plt.legend([\"ERJ avec chaos map\",\"ERJ avec r random\"])\n",
    "plt.show()\n",
    "\n"
   ]
  },
  {
   "cell_type": "markdown",
   "metadata": {},
   "source": [
    "On test l'influence du nombre d'iteration sur la PSO de la fonction Rastrigin"
   ]
  },
  {
   "cell_type": "code",
   "execution_count": null,
   "metadata": {},
   "outputs": [
    {
     "ename": "",
     "evalue": "",
     "output_type": "error",
     "traceback": [
      "\u001b[1;31mÉchec du démarrage du noyau. \n",
      "C:\\Users\\Loaï univ\\AppData\\Local\\Packages\\PythonSoftwareFoundation.Python.3.9_qbz5n2kfra8p0\\LocalCache\\local-packages\\Python39\\site-packages\\traitlets\\traitlets.py:2392: FutureWarning: Supporting extra quotes around strings is deprecated in traitlets 5.0. You can use 'hmac-sha256' instead of '\"hmac-sha256\"' if you require traitlets >=5.\r\n",
      "  warn(\r\n",
      "C:\\Users\\Loaï univ\\AppData\\Local\\Packages\\PythonSoftwareFoundation.Python.3.9_qbz5n2kfra8p0\\LocalCache\\local-packages\\Python39\\site-packages\\traitlets\\traitlets.py:2346: FutureWarning: Supporting extra quotes around Bytes is deprecated in traitlets 5.0. Use '44ddb25a-922f-41cc-a623-8f57070c61cb' instead of 'b\"44ddb25a-922f-41cc-a623-8f57070c61cb\"'.\r\n",
      "  warn(\r\n",
      "C:\\Users\\Loaï univ\\AppData\\Local\\Packages\\PythonSoftwareFoundation.Python.3.9_qbz5n2kfra8p0\\LocalCache\\local-packages\\Python39\\site-packages\\traitlets\\traitlets.py:2392: FutureWarning: Supporting extra quotes around strings is deprecated in traitlets 5.0. You can use 'c:\\\\Users\\\\Loaï univ\\\\AppData\\\\Roaming\\\\jupyter\\\\runtime\\\\kernel-v2-16192p2CRA7RdYrl7.json' instead of '\"c:\\\\Users\\\\Loaï univ\\\\AppData\\\\Roaming\\\\jupyter\\\\runtime\\\\kernel-v2-16192p2CRA7RdYrl7.json\"' if you require traitlets >=5.\r\n",
      "  warn(\r\n",
      "Bad file descriptor (C:\\projects\\libzmq\\src\\epoll.cpp:100). \n",
      "Pour plus d’informations, consultez Jupyter <a href='command:jupyter.viewOutput'>log</a>."
     ]
    }
   ],
   "source": [
    "\n",
    "minimize = np.array([0, 0])\n",
    "\n",
    "# Taille des populations\n",
    "P = np.array([40])\n",
    "\n",
    "# Dimension des particules\n",
    "D = np.array([2])\n",
    "\n",
    "# Nombre d'itérations\n",
    "K = np.array([10, 50, 100, 500, 1000])\n",
    "\n",
    "n = np.size(K)\n",
    "\n",
    "borne_inf = -5.12\n",
    "borne_sup = 5.12\n",
    "\n",
    "erreur_chaos = np.zeros((n,n))\n",
    "erreur_random = np.zeros((n,n))\n",
    "\n",
    "for i in range(n):\n",
    "    [erreur_chaos[i], erreur_random[i]] = etudeParametrique(rastrigin, minimize, P, D, K, borne_inf, borne_sup)\n",
    "\n",
    "\n",
    "print(np.mean(erreur_chaos, axis=0))\n",
    "print(np.mean(erreur_random, axis=0))\n",
    "\n",
    "\n",
    "plt.loglog(K,np.mean(erreur_chaos, axis=0))\n",
    "plt.loglog(K,np.mean(erreur_random, axis=0))\n",
    "plt.xlabel(\"K\", size = 10)\n",
    "plt.ylabel(\"ERJ\", size = 10)\n",
    "plt.title(\"variation de l'erreur en fonction de K\")\n",
    "plt.legend([\"ERJ avec chaos map\",\"ERJ avec r random\"])\n",
    "plt.show()\n"
   ]
  },
  {
   "cell_type": "markdown",
   "metadata": {},
   "source": [
    "On test l'influence de la dimension des particules sur la PSO de la fonction Rastrigin"
   ]
  },
  {
   "cell_type": "code",
   "execution_count": null,
   "metadata": {},
   "outputs": [
    {
     "ename": "",
     "evalue": "",
     "output_type": "error",
     "traceback": [
      "\u001b[1;31mÉchec du démarrage du noyau. \n",
      "C:\\Users\\Loaï univ\\AppData\\Local\\Packages\\PythonSoftwareFoundation.Python.3.9_qbz5n2kfra8p0\\LocalCache\\local-packages\\Python39\\site-packages\\traitlets\\traitlets.py:2392: FutureWarning: Supporting extra quotes around strings is deprecated in traitlets 5.0. You can use 'hmac-sha256' instead of '\"hmac-sha256\"' if you require traitlets >=5.\r\n",
      "  warn(\r\n",
      "C:\\Users\\Loaï univ\\AppData\\Local\\Packages\\PythonSoftwareFoundation.Python.3.9_qbz5n2kfra8p0\\LocalCache\\local-packages\\Python39\\site-packages\\traitlets\\traitlets.py:2346: FutureWarning: Supporting extra quotes around Bytes is deprecated in traitlets 5.0. Use '44ddb25a-922f-41cc-a623-8f57070c61cb' instead of 'b\"44ddb25a-922f-41cc-a623-8f57070c61cb\"'.\r\n",
      "  warn(\r\n",
      "C:\\Users\\Loaï univ\\AppData\\Local\\Packages\\PythonSoftwareFoundation.Python.3.9_qbz5n2kfra8p0\\LocalCache\\local-packages\\Python39\\site-packages\\traitlets\\traitlets.py:2392: FutureWarning: Supporting extra quotes around strings is deprecated in traitlets 5.0. You can use 'c:\\\\Users\\\\Loaï univ\\\\AppData\\\\Roaming\\\\jupyter\\\\runtime\\\\kernel-v2-16192p2CRA7RdYrl7.json' instead of '\"c:\\\\Users\\\\Loaï univ\\\\AppData\\\\Roaming\\\\jupyter\\\\runtime\\\\kernel-v2-16192p2CRA7RdYrl7.json\"' if you require traitlets >=5.\r\n",
      "  warn(\r\n",
      "Bad file descriptor (C:\\projects\\libzmq\\src\\epoll.cpp:100). \n",
      "Pour plus d’informations, consultez Jupyter <a href='command:jupyter.viewOutput'>log</a>."
     ]
    }
   ],
   "source": [
    "\n",
    "minimize = np.array([0, 0])\n",
    "\n",
    "# Taille des populations\n",
    "P = np.array([40])\n",
    "\n",
    "# Dimension des particules\n",
    "D = np.array([2, 5, 10, 50, 100])\n",
    "\n",
    "# Nombre d'itérations\n",
    "K = np.array([50])\n",
    "\n",
    "n = np.size(D)\n",
    "\n",
    "borne_inf = -5.12\n",
    "borne_sup = 5.12\n",
    "\n",
    "erreur_chaos = np.zeros((n,n))\n",
    "erreur_random = np.zeros((n,n))\n",
    "\n",
    "for i in range(n):\n",
    "    [erreur_chaos[i], erreur_random[i]] = etudeParametrique(rastrigin, minimize, P, D, K, borne_inf, borne_sup)\n",
    "\n",
    "\n",
    "print(np.mean(erreur_chaos, axis=0))\n",
    "print(np.mean(erreur_random, axis=0))\n",
    "\n",
    "\n",
    "plt.loglog(D,np.mean(erreur_chaos, axis=0))\n",
    "plt.loglog(D,np.mean(erreur_random, axis=0))\n",
    "plt.xlabel(\"D\", size = 10)\n",
    "plt.ylabel(\"ERJ\", size = 10)\n",
    "plt.title(\"variation de l'erreur en fonction de D\")\n",
    "plt.legend([\"ERJ avec chaos map\",\"ERJ avec r random\"])\n",
    "plt.show()\n"
   ]
  },
  {
   "cell_type": "markdown",
   "metadata": {},
   "source": [
    "## 7/ Graphiques en 3D  \n",
    "\n",
    "Pour avoir une idée du fonctionnement de la PSO en 3 dimensions, nous afficherons les graphiques 3D pour la dernière itérations (pour pouvoir mieux voir les points, il faut tourner les graphiques 3D). Cette partie permet de comprendre un peu mieux l'évolution des points dans une dimension supérieure à 2. Pour ce faire, on crée la fonction suivante :"
   ]
  },
  {
   "cell_type": "code",
   "execution_count": null,
   "metadata": {},
   "outputs": [
    {
     "ename": "",
     "evalue": "",
     "output_type": "error",
     "traceback": [
      "\u001b[1;31mÉchec du démarrage du noyau. \n",
      "C:\\Users\\Loaï univ\\AppData\\Local\\Packages\\PythonSoftwareFoundation.Python.3.9_qbz5n2kfra8p0\\LocalCache\\local-packages\\Python39\\site-packages\\traitlets\\traitlets.py:2392: FutureWarning: Supporting extra quotes around strings is deprecated in traitlets 5.0. You can use 'hmac-sha256' instead of '\"hmac-sha256\"' if you require traitlets >=5.\r\n",
      "  warn(\r\n",
      "C:\\Users\\Loaï univ\\AppData\\Local\\Packages\\PythonSoftwareFoundation.Python.3.9_qbz5n2kfra8p0\\LocalCache\\local-packages\\Python39\\site-packages\\traitlets\\traitlets.py:2346: FutureWarning: Supporting extra quotes around Bytes is deprecated in traitlets 5.0. Use '44ddb25a-922f-41cc-a623-8f57070c61cb' instead of 'b\"44ddb25a-922f-41cc-a623-8f57070c61cb\"'.\r\n",
      "  warn(\r\n",
      "C:\\Users\\Loaï univ\\AppData\\Local\\Packages\\PythonSoftwareFoundation.Python.3.9_qbz5n2kfra8p0\\LocalCache\\local-packages\\Python39\\site-packages\\traitlets\\traitlets.py:2392: FutureWarning: Supporting extra quotes around strings is deprecated in traitlets 5.0. You can use 'c:\\\\Users\\\\Loaï univ\\\\AppData\\\\Roaming\\\\jupyter\\\\runtime\\\\kernel-v2-16192p2CRA7RdYrl7.json' instead of '\"c:\\\\Users\\\\Loaï univ\\\\AppData\\\\Roaming\\\\jupyter\\\\runtime\\\\kernel-v2-16192p2CRA7RdYrl7.json\"' if you require traitlets >=5.\r\n",
      "  warn(\r\n",
      "Bad file descriptor (C:\\projects\\libzmq\\src\\epoll.cpp:100). \n",
      "Pour plus d’informations, consultez Jupyter <a href='command:jupyter.viewOutput'>log</a>."
     ]
    }
   ],
   "source": [
    "def peso3D(f, P_0, V_0, K_max, w, r, X_min, X_max):\n",
    "    \n",
    "    P_k = deepcopy(P_0)\n",
    "    V_k = deepcopy(V_0)\n",
    "    \n",
    "    # Taille de la population\n",
    "    dim_pop = np.size(P_0, 0)\n",
    "    \n",
    "    # Taille des vecteurs \n",
    "    dim_part = np.size(P_0, 1)\n",
    "    \n",
    "    # Array contenant le personnal best pour chaque x_i\n",
    "    pb = deepcopy(P_k) \n",
    "    \n",
    "    # Global best\n",
    "    gb = P_k[0] \n",
    "    for i in range(dim_pop):\n",
    "         if (f(gb) > f(pb[i])):\n",
    "                gb = pb[i]\n",
    "                \n",
    "    # On itère \n",
    "    for k in range(1, K_max):\n",
    "    \n",
    "        # on itère pour trouver Vik+1 et Xik+1 en fonction de Vik et de Xik \n",
    "        for i in range(dim_pop):\n",
    "            V_k[i,:] = w[0] * V_k[i,:] + r[k] * w[1] *(pb[i,:] - P_k[i,:]) + r[k] * w[2] * (gb - P_k[i,:])\n",
    "            P_k[i,:] += V_k[i,:]\n",
    "            \n",
    "            # on met à jour les Xik pour qu'ils restent dans l'intervalle [Xmin,Xmax]\n",
    "            for j in range(dim_part):\n",
    "                P_k[i][j] = min(X_max, max(P_k[i][j], X_min))\n",
    "            \n",
    "            # On détermine  les pb\n",
    "            if(f(pb[i]) > f(P_k[i])):\n",
    "                pb[i] = P_k[i]\n",
    "            \n",
    "            # On détermine  les gb\n",
    "            if (f(gb) > f(pb[i])):\n",
    "                gb = pb[i]\n",
    "    \n",
    "    # Au bout de K_max itérations on renvoie le global best (ce vers quoi le nuage de points converge)\n",
    "    fig = plt.figure() \n",
    "    ax = fig.gca(projection='3d') \n",
    "    \n",
    "    X = np.arange(borne_Inf, borne_Sup, 0.1)\n",
    "    Y = np.arange(borne_Inf, borne_Sup, 0.1)\n",
    "    X, Y = np.meshgrid(X, Y)\n",
    "    Z = f([X,Y])\n",
    "\n",
    "\n",
    "    ax.plot_surface(X, Y, Z, rstride=1, cstride=1, cmap=cm.nipy_spectral, linewidth=0.08, antialiased=True, zorder = 1)\n",
    "\n",
    "    for i in range(dim_pop):\n",
    "        ax.scatter(P_0[i][0], P_0[i][1], f(P_0[i]), color = \"black\", s=75)\n",
    "        ax.scatter(P_k[i][0], P_k[i][1], f(P_k[i]), color = \"fuchsia\", s=75, zorder = 2)\n",
    "\n",
    "\n",
    "    plt.show()\n",
    "    return gb"
   ]
  },
  {
   "cell_type": "markdown",
   "metadata": {},
   "source": [
    "__Schaffer n°4__"
   ]
  },
  {
   "cell_type": "code",
   "execution_count": null,
   "metadata": {},
   "outputs": [
    {
     "ename": "",
     "evalue": "",
     "output_type": "error",
     "traceback": [
      "\u001b[1;31mÉchec du démarrage du noyau. \n",
      "C:\\Users\\Loaï univ\\AppData\\Local\\Packages\\PythonSoftwareFoundation.Python.3.9_qbz5n2kfra8p0\\LocalCache\\local-packages\\Python39\\site-packages\\traitlets\\traitlets.py:2392: FutureWarning: Supporting extra quotes around strings is deprecated in traitlets 5.0. You can use 'hmac-sha256' instead of '\"hmac-sha256\"' if you require traitlets >=5.\r\n",
      "  warn(\r\n",
      "C:\\Users\\Loaï univ\\AppData\\Local\\Packages\\PythonSoftwareFoundation.Python.3.9_qbz5n2kfra8p0\\LocalCache\\local-packages\\Python39\\site-packages\\traitlets\\traitlets.py:2346: FutureWarning: Supporting extra quotes around Bytes is deprecated in traitlets 5.0. Use '44ddb25a-922f-41cc-a623-8f57070c61cb' instead of 'b\"44ddb25a-922f-41cc-a623-8f57070c61cb\"'.\r\n",
      "  warn(\r\n",
      "C:\\Users\\Loaï univ\\AppData\\Local\\Packages\\PythonSoftwareFoundation.Python.3.9_qbz5n2kfra8p0\\LocalCache\\local-packages\\Python39\\site-packages\\traitlets\\traitlets.py:2392: FutureWarning: Supporting extra quotes around strings is deprecated in traitlets 5.0. You can use 'c:\\\\Users\\\\Loaï univ\\\\AppData\\\\Roaming\\\\jupyter\\\\runtime\\\\kernel-v2-16192p2CRA7RdYrl7.json' instead of '\"c:\\\\Users\\\\Loaï univ\\\\AppData\\\\Roaming\\\\jupyter\\\\runtime\\\\kernel-v2-16192p2CRA7RdYrl7.json\"' if you require traitlets >=5.\r\n",
      "  warn(\r\n",
      "Bad file descriptor (C:\\projects\\libzmq\\src\\epoll.cpp:100). \n",
      "Pour plus d’informations, consultez Jupyter <a href='command:jupyter.viewOutput'>log</a>."
     ]
    }
   ],
   "source": [
    "gbs = peso3D(schaffer4, P_0, V_0, k_max, np.array([0.8, 0.8, 0.8]),X_lg , borne_Inf, borne_Sup)\n",
    "print(\"global best : \",gbs)\n",
    "print(\"f(gb) = \",schaffer4(gbs))"
   ]
  },
  {
   "cell_type": "markdown",
   "metadata": {},
   "source": [
    "__Rastrigin__"
   ]
  },
  {
   "cell_type": "code",
   "execution_count": null,
   "metadata": {},
   "outputs": [
    {
     "ename": "",
     "evalue": "",
     "output_type": "error",
     "traceback": [
      "\u001b[1;31mÉchec du démarrage du noyau. \n",
      "C:\\Users\\Loaï univ\\AppData\\Local\\Packages\\PythonSoftwareFoundation.Python.3.9_qbz5n2kfra8p0\\LocalCache\\local-packages\\Python39\\site-packages\\traitlets\\traitlets.py:2392: FutureWarning: Supporting extra quotes around strings is deprecated in traitlets 5.0. You can use 'hmac-sha256' instead of '\"hmac-sha256\"' if you require traitlets >=5.\r\n",
      "  warn(\r\n",
      "C:\\Users\\Loaï univ\\AppData\\Local\\Packages\\PythonSoftwareFoundation.Python.3.9_qbz5n2kfra8p0\\LocalCache\\local-packages\\Python39\\site-packages\\traitlets\\traitlets.py:2346: FutureWarning: Supporting extra quotes around Bytes is deprecated in traitlets 5.0. Use '44ddb25a-922f-41cc-a623-8f57070c61cb' instead of 'b\"44ddb25a-922f-41cc-a623-8f57070c61cb\"'.\r\n",
      "  warn(\r\n",
      "C:\\Users\\Loaï univ\\AppData\\Local\\Packages\\PythonSoftwareFoundation.Python.3.9_qbz5n2kfra8p0\\LocalCache\\local-packages\\Python39\\site-packages\\traitlets\\traitlets.py:2392: FutureWarning: Supporting extra quotes around strings is deprecated in traitlets 5.0. You can use 'c:\\\\Users\\\\Loaï univ\\\\AppData\\\\Roaming\\\\jupyter\\\\runtime\\\\kernel-v2-16192p2CRA7RdYrl7.json' instead of '\"c:\\\\Users\\\\Loaï univ\\\\AppData\\\\Roaming\\\\jupyter\\\\runtime\\\\kernel-v2-16192p2CRA7RdYrl7.json\"' if you require traitlets >=5.\r\n",
      "  warn(\r\n",
      "Bad file descriptor (C:\\projects\\libzmq\\src\\epoll.cpp:100). \n",
      "Pour plus d’informations, consultez Jupyter <a href='command:jupyter.viewOutput'>log</a>."
     ]
    }
   ],
   "source": [
    "gbr = peso3D(rastriginGraph, P_0, V_0, k_max, np.array([0.8, 0.8, 0.8]),X_lg , borne_Inf, borne_Sup)\n",
    "print(\"global best : \",gbr)\n",
    "print(\"f(gb) = \",rastrigin(gbr))"
   ]
  }
 ],
 "metadata": {
  "kernelspec": {
   "display_name": "Python 3.10.1 64-bit",
   "language": "python",
   "name": "python3"
  },
  "language_info": {
   "codemirror_mode": {
    "name": "ipython",
    "version": 3
   },
   "file_extension": ".py",
   "mimetype": "text/x-python",
   "name": "python",
   "nbconvert_exporter": "python",
   "pygments_lexer": "ipython3",
   "version": "3.10.1"
  },
  "vscode": {
   "interpreter": {
    "hash": "26de051ba29f2982a8de78e945f0abaf191376122a1563185a90213a26c5da77"
   }
  }
 },
 "nbformat": 4,
 "nbformat_minor": 4
}
