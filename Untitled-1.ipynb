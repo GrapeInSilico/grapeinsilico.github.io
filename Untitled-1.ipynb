{
 "cells": [
  {
   "cell_type": "code",
   "execution_count": null,
   "metadata": {},
   "outputs": [],
   "source": [
    "print(\"rtest\")"
   ]
  }
 ],
 "metadata": {
  "kernelspec": {
   "display_name": "Python 3.9.13 64-bit (windows store)",
   "language": "python",
   "name": "python3"
  },
  "language_info": {
   "name": "python",
   "version": "3.9.13"
  },
  "orig_nbformat": 4,
  "vscode": {
   "interpreter": {
    "hash": "cde90cc1f045132c322d668ee677be3678d559869020e0fc7b1a7049a4a98d1c"
   }
  }
 },
 "nbformat": 4,
 "nbformat_minor": 2
}
